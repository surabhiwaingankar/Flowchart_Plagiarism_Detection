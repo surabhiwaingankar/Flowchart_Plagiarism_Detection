{
 "cells": [
  {
   "cell_type": "code",
   "execution_count": 2,
   "metadata": {},
   "outputs": [
    {
     "ename": "ModuleNotFoundError",
     "evalue": "No module named 'paddleocr'",
     "output_type": "error",
     "traceback": [
      "\u001b[1;31m---------------------------------------------------------------------------\u001b[0m",
      "\u001b[1;31mModuleNotFoundError\u001b[0m                       Traceback (most recent call last)",
      "Cell \u001b[1;32mIn[2], line 1\u001b[0m\n\u001b[1;32m----> 1\u001b[0m \u001b[38;5;28;01mfrom\u001b[39;00m \u001b[38;5;21;01mpaddleocr\u001b[39;00m \u001b[38;5;28;01mimport\u001b[39;00m PaddleOCR, draw_ocr\n\u001b[0;32m      3\u001b[0m \u001b[38;5;66;03m# Paddleocr目前支持的多语言语种可以通过修改lang参数进行切换\u001b[39;00m\n\u001b[0;32m      4\u001b[0m \u001b[38;5;66;03m# 例如`ch`, `en`, `fr`, `german`, `korean`, `japan`\u001b[39;00m\n\u001b[0;32m      5\u001b[0m ocr \u001b[38;5;241m=\u001b[39m PaddleOCR(use_angle_cls\u001b[38;5;241m=\u001b[39m\u001b[38;5;28;01mTrue\u001b[39;00m, lang\u001b[38;5;241m=\u001b[39m\u001b[38;5;124m\"\u001b[39m\u001b[38;5;124men\u001b[39m\u001b[38;5;124m\"\u001b[39m)  \u001b[38;5;66;03m# need to run only once to download and load model into memory\u001b[39;00m\n",
      "\u001b[1;31mModuleNotFoundError\u001b[0m: No module named 'paddleocr'"
     ]
    }
   ],
   "source": [
    "from paddleocr import PaddleOCR, draw_ocr\n",
    "\n",
    "# Paddleocr目前支持的多语言语种可以通过修改lang参数进行切换\n",
    "# 例如`ch`, `en`, `fr`, `german`, `korean`, `japan`\n",
    "ocr = PaddleOCR(use_angle_cls=True, lang=\"en\")  # need to run only once to download and load model into memory"
   ]
  },
  {
   "cell_type": "code",
   "execution_count": 18,
   "metadata": {},
   "outputs": [
    {
     "name": "stdout",
     "output_type": "stream",
     "text": [
      "[2024/08/28 14:51:48] ppocr DEBUG: dt_boxes num : 10, elapsed : 0.14487552642822266\n",
      "[2024/08/28 14:51:48] ppocr DEBUG: cls num  : 10, elapsed : 0.05011796951293945\n",
      "[2024/08/28 14:51:48] ppocr DEBUG: rec_res num  : 10, elapsed : 0.6540014743804932\n",
      "[[[343.0, 33.0], [621.0, 33.0], [621.0, 64.0], [343.0, 64.0]], ('Simple Flowchart', 0.9770476818084717)]\n",
      "[[[63.0, 55.0], [114.0, 57.0], [113.0, 80.0], [62.0, 77.0]], ('Start', 0.9995299577713013)]\n",
      "[[[618.0, 93.0], [692.0, 90.0], [694.0, 134.0], [619.0, 136.0]], ('QG', 0.9970448613166809)]\n",
      "[[[586.0, 193.0], [627.0, 193.0], [627.0, 216.0], [586.0, 216.0]], ('End', 0.9994561076164246)]\n",
      "[[[32.0, 224.0], [125.0, 224.0], [125.0, 245.0], [32.0, 245.0]], ('Process1', 0.9987485408782959)]\n",
      "[[[310.0, 361.0], [383.0, 361.0], [383.0, 382.0], [310.0, 382.0]], ('Inspect', 0.9969881176948547)]\n",
      "[[[31.0, 381.0], [123.0, 381.0], [123.0, 399.0], [31.0, 399.0]], ('Process2', 0.9979144334793091)]\n",
      "[[[562.0, 373.0], [657.0, 376.0], [656.0, 397.0], [561.0, 394.0]], ('Process3', 0.9963469505310059)]\n",
      "[[[456.0, 389.0], [551.0, 389.0], [551.0, 412.0], [456.0, 412.0]], ('Accepted', 0.9993194341659546)]\n",
      "[[[186.0, 470.0], [273.0, 470.0], [273.0, 493.0], [186.0, 493.0]], ('Rejected', 0.999177873134613)]\n"
     ]
    },
    {
     "data": {
      "text/plain": [
       "['Simple Flowchart',\n",
       " 'Start',\n",
       " 'QG',\n",
       " 'End',\n",
       " 'Process1',\n",
       " 'Inspect',\n",
       " 'Process2',\n",
       " 'Process3',\n",
       " 'Accepted',\n",
       " 'Rejected']"
      ]
     },
     "execution_count": 18,
     "metadata": {},
     "output_type": "execute_result"
    }
   ],
   "source": [
    "img_path = 's.jpg'\n",
    "result = ocr.ocr(img_path, cls=True)\n",
    "for idx in range(len(result)):\n",
    "    res = result[idx]\n",
    "    for line in res:\n",
    "        print(line)\n",
    "\n",
    "# for i in result[0]:\n",
    "#     print(i)\n",
    "\n",
    "from PIL import Image\n",
    "result = result[0]\n",
    "image = Image.open(img_path).convert('RGB')\n",
    "image\n",
    "# print(result)\n",
    "# for line in result:\n",
    "#     print(line[0])\n",
    "# boxes = [line[0] for line in result]\n",
    "txts = [line[1][0] for line in result]\n",
    "txts\n",
    "# scores = [line[1][1] for line in result]\n",
    "# im_show = draw_ocr(image, boxes, txts, scores, font_path=\"./doc/fonts/simfang.ttf\")\n",
    "# im_show = Image.fromarray(im_show)\n",
    "# im_show.save('result.jpg')"
   ]
  },
  {
   "cell_type": "code",
   "execution_count": 12,
   "metadata": {},
   "outputs": [],
   "source": [
    "from dotenv import load_dotenv\n",
    "import os\n",
    "load_dotenv()\n",
    "api_key = os.getenv(\"OPENAI_API_KEY\")"
   ]
  },
  {
   "cell_type": "code",
   "execution_count": 13,
   "metadata": {},
   "outputs": [
    {
     "data": {
      "text/plain": [
       "'START Read num reverse=0 tempNum=num No num!=0 Yes rem=num%10 reverse*=10+rem num=num/10 Yes reverse= tempNum No Palindrome not palindrome STOP'"
      ]
     },
     "execution_count": 13,
     "metadata": {},
     "output_type": "execute_result"
    }
   ],
   "source": [
    "str= ' '.join(txts)\n",
    "str\n"
   ]
  },
  {
   "cell_type": "code",
   "execution_count": 14,
   "metadata": {},
   "outputs": [],
   "source": [
    "from langchain_openai import OpenAI\n",
    "from langchain_core.prompts import PromptTemplate\n",
    "# The following is the data containing the text from a flowchart image:\n",
    "# The data is in the form of a list with the following elements : the 4 coordinates of the bounding box of the text, the text itself, and the confidence score of the text.\n",
    "# Understand the data with the relation between the bounding box and the text.\n",
    "# The data is as follows:\n",
    "template = \"\"\"\n",
    "The following is the data containing the text from a flowchart image:\n",
    "Explain the overall semantic meaning of the flowchart preferably in a structured format.\n",
    "Answer using strictly the information provided in the text below and give the semantic meaning of the flowchart only\n",
    "{txts}.\n",
    "\"\"\"\n",
    "\n",
    "formatted_template = template.format(txts=txts)\n",
    "prompt = PromptTemplate.from_template(formatted_template)\n"
   ]
  },
  {
   "cell_type": "code",
   "execution_count": 15,
   "metadata": {},
   "outputs": [],
   "source": [
    "llm = OpenAI(api_key=api_key,temperature=0.3)\n",
    "llm_chain = prompt|llm\n"
   ]
  },
  {
   "cell_type": "code",
   "execution_count": 16,
   "metadata": {},
   "outputs": [
    {
     "name": "stdout",
     "output_type": "stream",
     "text": [
      "\n",
      "START:\n",
      "- The flowchart begins at the START point.\n",
      "\n",
      "Read num:\n",
      "- The program reads a number from the user and assigns it to the variable 'num'.\n",
      "\n",
      "reverse=0:\n",
      "- The variable 'reverse' is initialized to 0.\n",
      "\n",
      "tempNum=num:\n",
      "- The value of 'num' is stored in the variable 'tempNum'.\n",
      "\n",
      "No:\n",
      "- This is a decision point where the program checks if the number is equal to 0.\n",
      "\n",
      "num!=0:\n",
      "- If the number is not equal to 0, the program proceeds to the next step.\n",
      "\n",
      "Yes:\n",
      "- This is a decision point where the program checks if the number is a palindrome.\n",
      "\n",
      "rem=num%10:\n",
      "- The remainder of the number divided by 10 is stored in the variable 'rem'.\n",
      "\n",
      "reverse*=10+rem:\n",
      "- The variable 'reverse' is multiplied by 10 and added to the value of 'rem'.\n",
      "\n",
      "num=num/10:\n",
      "- The number is divided by 10 and the result is stored in the variable 'num'.\n",
      "\n",
      "Yes:\n",
      "- If the number is a palindrome, the program proceeds to the next step.\n",
      "\n",
      "reverse=:\n",
      "- The value of 'reverse' is assigned to the variable 'tempNum'.\n",
      "\n",
      "No:\n",
      "- If the number is not a palindrome, the program\n"
     ]
    }
   ],
   "source": [
    "question = {\"input\": \"Summarize the data from the flowchart image\"}\n",
    "print(llm_chain.invoke(question))\n"
   ]
  },
  {
   "cell_type": "code",
   "execution_count": 17,
   "metadata": {},
   "outputs": [],
   "source": [
    "#Add appropriate image preprocessing steps to improve the OCR results if needed.\n",
    "#Limitations- horizontal text me problem in interpretation\n",
    "#Limitations- text with arrows pe text me problem in interpretation\n",
    "# End me just semantic meaning of flowchart ko match karana hai if similar then plaigiarsim hai"
   ]
  },
  {
   "cell_type": "code",
   "execution_count": null,
   "metadata": {},
   "outputs": [],
   "source": []
  },
  {
   "cell_type": "code",
   "execution_count": null,
   "metadata": {},
   "outputs": [],
   "source": []
  }
 ],
 "metadata": {
  "kernelspec": {
   "display_name": ".venv",
   "language": "python",
   "name": "python3"
  },
  "language_info": {
   "codemirror_mode": {
    "name": "ipython",
    "version": 3
   },
   "file_extension": ".py",
   "mimetype": "text/x-python",
   "name": "python",
   "nbconvert_exporter": "python",
   "pygments_lexer": "ipython3",
   "version": "3.11.3"
  }
 },
 "nbformat": 4,
 "nbformat_minor": 2
}
