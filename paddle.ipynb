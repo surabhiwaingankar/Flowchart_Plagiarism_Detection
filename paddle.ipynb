{
 "cells": [
  {
   "cell_type": "code",
   "execution_count": 25,
   "metadata": {},
   "outputs": [
    {
     "name": "stdout",
     "output_type": "stream",
     "text": [
      "[2025/01/22 14:43:58] ppocr DEBUG: Namespace(help='==SUPPRESS==', use_gpu=False, use_xpu=False, use_npu=False, use_mlu=False, ir_optim=True, use_tensorrt=False, min_subgraph_size=15, precision='fp32', gpu_mem=500, gpu_id=0, image_dir=None, page_num=0, det_algorithm='DB', det_model_dir='C:\\\\Users\\\\yugtg/.paddleocr/whl\\\\det\\\\en\\\\en_PP-OCRv3_det_infer', det_limit_side_len=960, det_limit_type='max', det_box_type='quad', det_db_thresh=0.3, det_db_box_thresh=0.6, det_db_unclip_ratio=1.5, max_batch_size=10, use_dilation=False, det_db_score_mode='fast', det_east_score_thresh=0.8, det_east_cover_thresh=0.1, det_east_nms_thresh=0.2, det_sast_score_thresh=0.5, det_sast_nms_thresh=0.2, det_pse_thresh=0, det_pse_box_thresh=0.85, det_pse_min_area=16, det_pse_scale=1, scales=[8, 16, 32], alpha=1.0, beta=1.0, fourier_degree=5, rec_algorithm='SVTR_LCNet', rec_model_dir='C:\\\\Users\\\\yugtg/.paddleocr/whl\\\\rec\\\\en\\\\en_PP-OCRv4_rec_infer', rec_image_inverse=True, rec_image_shape='3, 48, 320', rec_batch_num=6, max_text_length=25, rec_char_dict_path='c:\\\\Users\\\\yugtg\\\\Desktop\\\\cdac surabhi repo\\\\Flowchart_Plagiarism_Detection\\\\.venv\\\\Lib\\\\site-packages\\\\paddleocr\\\\ppocr\\\\utils\\\\en_dict.txt', use_space_char=True, vis_font_path='./doc/fonts/simfang.ttf', drop_score=0.5, e2e_algorithm='PGNet', e2e_model_dir=None, e2e_limit_side_len=768, e2e_limit_type='max', e2e_pgnet_score_thresh=0.5, e2e_char_dict_path='./ppocr/utils/ic15_dict.txt', e2e_pgnet_valid_set='totaltext', e2e_pgnet_mode='fast', use_angle_cls=True, cls_model_dir='C:\\\\Users\\\\yugtg/.paddleocr/whl\\\\cls\\\\ch_ppocr_mobile_v2.0_cls_infer', cls_image_shape='3, 48, 192', label_list=['0', '180'], cls_batch_num=6, cls_thresh=0.9, enable_mkldnn=False, cpu_threads=10, use_pdserving=False, warmup=False, sr_model_dir=None, sr_image_shape='3, 32, 128', sr_batch_num=1, draw_img_save_dir='./inference_results', save_crop_res=False, crop_res_save_dir='./output', use_mp=False, total_process_num=1, process_id=0, benchmark=False, save_log_path='./log_output/', show_log=True, use_onnx=False, return_word_box=False, output='./output', table_max_len=488, table_algorithm='TableAttn', table_model_dir=None, merge_no_span_structure=True, table_char_dict_path=None, formula_algorithm='LaTeXOCR', formula_model_dir=None, formula_char_dict_path=None, formula_batch_num=1, layout_model_dir=None, layout_dict_path=None, layout_score_threshold=0.5, layout_nms_threshold=0.5, kie_algorithm='LayoutXLM', ser_model_dir=None, re_model_dir=None, use_visual_backbone=True, ser_dict_path='../train_data/XFUND/class_list_xfun.txt', ocr_order_method=None, mode='structure', image_orientation=False, layout=True, table=True, formula=False, ocr=True, recovery=False, recovery_to_markdown=False, use_pdf2docx_api=False, invert=False, binarize=False, alphacolor=(255, 255, 255), lang='en', det=True, rec=True, type='ocr', savefile=False, ocr_version='PP-OCRv4', structure_version='PP-StructureV2')\n"
     ]
    }
   ],
   "source": [
    "from paddleocr import PaddleOCR, draw_ocr\n",
    "\n",
    "# Paddleocr目前支持的多语言语种可以通过修改lang参数进行切换\n",
    "# 例如`ch`, `en`, `fr`, `german`, `korean`, `japan`\n",
    "ocr = PaddleOCR(use_angle_cls=True, lang=\"en\")  # need to run only once to download and load model into memory"
   ]
  },
  {
   "cell_type": "code",
   "execution_count": 26,
   "metadata": {},
   "outputs": [
    {
     "name": "stdout",
     "output_type": "stream",
     "text": [
      "[2025/01/22 14:44:00] ppocr DEBUG: Namespace(help='==SUPPRESS==', use_gpu=False, use_xpu=False, use_npu=False, use_mlu=False, ir_optim=True, use_tensorrt=False, min_subgraph_size=15, precision='fp32', gpu_mem=500, gpu_id=0, image_dir=None, page_num=0, det_algorithm='DB', det_model_dir='C:\\\\Users\\\\yugtg/.paddleocr/whl\\\\det\\\\en\\\\en_PP-OCRv3_det_infer', det_limit_side_len=960, det_limit_type='max', det_box_type='quad', det_db_thresh=0.3, det_db_box_thresh=0.6, det_db_unclip_ratio=1.5, max_batch_size=10, use_dilation=False, det_db_score_mode='fast', det_east_score_thresh=0.8, det_east_cover_thresh=0.1, det_east_nms_thresh=0.2, det_sast_score_thresh=0.5, det_sast_nms_thresh=0.2, det_pse_thresh=0, det_pse_box_thresh=0.85, det_pse_min_area=16, det_pse_scale=1, scales=[8, 16, 32], alpha=1.0, beta=1.0, fourier_degree=5, rec_algorithm='SVTR_LCNet', rec_model_dir='C:\\\\Users\\\\yugtg/.paddleocr/whl\\\\rec\\\\en\\\\en_PP-OCRv4_rec_infer', rec_image_inverse=True, rec_image_shape='3, 48, 320', rec_batch_num=6, max_text_length=25, rec_char_dict_path='c:\\\\Users\\\\yugtg\\\\Desktop\\\\cdac surabhi repo\\\\Flowchart_Plagiarism_Detection\\\\.venv\\\\Lib\\\\site-packages\\\\paddleocr\\\\ppocr\\\\utils\\\\en_dict.txt', use_space_char=True, vis_font_path='./doc/fonts/simfang.ttf', drop_score=0.5, e2e_algorithm='PGNet', e2e_model_dir=None, e2e_limit_side_len=768, e2e_limit_type='max', e2e_pgnet_score_thresh=0.5, e2e_char_dict_path='./ppocr/utils/ic15_dict.txt', e2e_pgnet_valid_set='totaltext', e2e_pgnet_mode='fast', use_angle_cls=True, cls_model_dir='C:\\\\Users\\\\yugtg/.paddleocr/whl\\\\cls\\\\ch_ppocr_mobile_v2.0_cls_infer', cls_image_shape='3, 48, 192', label_list=['0', '180'], cls_batch_num=6, cls_thresh=0.9, enable_mkldnn=False, cpu_threads=10, use_pdserving=False, warmup=False, sr_model_dir=None, sr_image_shape='3, 32, 128', sr_batch_num=1, draw_img_save_dir='./inference_results', save_crop_res=False, crop_res_save_dir='./output', use_mp=False, total_process_num=1, process_id=0, benchmark=False, save_log_path='./log_output/', show_log=True, use_onnx=False, return_word_box=False, output='./output', table_max_len=488, table_algorithm='TableAttn', table_model_dir=None, merge_no_span_structure=True, table_char_dict_path=None, formula_algorithm='LaTeXOCR', formula_model_dir=None, formula_char_dict_path=None, formula_batch_num=1, layout_model_dir=None, layout_dict_path=None, layout_score_threshold=0.5, layout_nms_threshold=0.5, kie_algorithm='LayoutXLM', ser_model_dir=None, re_model_dir=None, use_visual_backbone=True, ser_dict_path='../train_data/XFUND/class_list_xfun.txt', ocr_order_method=None, mode='structure', image_orientation=False, layout=True, table=True, formula=False, ocr=True, recovery=False, recovery_to_markdown=False, use_pdf2docx_api=False, invert=False, binarize=False, alphacolor=(255, 255, 255), lang='en', det=True, rec=True, type='ocr', savefile=False, ocr_version='PP-OCRv4', structure_version='PP-StructureV2')\n",
      "[2025/01/22 14:44:01] ppocr DEBUG: dt_boxes num : 17, elapsed : 0.13636469841003418\n",
      "[2025/01/22 14:44:02] ppocr DEBUG: cls num  : 17, elapsed : 0.06861591339111328\n",
      "[2025/01/22 14:44:03] ppocr DEBUG: rec_res num  : 17, elapsed : 0.9961440563201904\n",
      "[[[[183.0, 30.0], [230.0, 30.0], [230.0, 46.0], [183.0, 46.0]], ('START', 0.9982209205627441)], [[[171.0, 111.0], [243.0, 111.0], [243.0, 128.0], [171.0, 128.0]], ('Read num', 0.9367326498031616)], [[[166.0, 182.0], [245.0, 179.0], [246.0, 197.0], [166.0, 199.0]], ('reverse=0', 0.9920327067375183)], [[[148.0, 200.0], [263.0, 201.0], [262.0, 216.0], [148.0, 215.0]], ('tempNum=num', 0.9935689568519592)], [[[295.0, 273.0], [319.0, 273.0], [319.0, 290.0], [295.0, 290.0]], ('No', 0.9890297651290894)], [[[176.0, 287.0], [237.0, 287.0], [237.0, 301.0], [176.0, 301.0]], ('num!=0', 0.9645083546638489)], [[[212.0, 347.0], [240.0, 350.0], [238.0, 366.0], [210.0, 363.0]], ('Yes', 0.9970759749412537)], [[[149.0, 382.0], [262.0, 381.0], [263.0, 396.0], [149.0, 397.0]], ('rem=num%10', 0.9931308627128601)], [[[140.0, 400.0], [269.0, 400.0], [269.0, 414.0], [140.0, 414.0]], ('reverse*=10+rem', 0.9886286854743958)], [[[149.0, 417.0], [259.0, 416.0], [259.0, 433.0], [149.0, 434.0]], ('num=num/10', 0.9915350079536438)], [[[255.0, 465.0], [284.0, 468.0], [282.0, 485.0], [253.0, 481.0]], ('Yes', 0.9936376214027405)], [[[334.0, 473.0], [401.0, 473.0], [401.0, 487.0], [334.0, 487.0]], ('reverse=', 0.9940569400787354)], [[[334.0, 491.0], [403.0, 491.0], [403.0, 505.0], [334.0, 505.0]], ('tempNum', 0.9963414072990417)], [[[383.0, 531.0], [406.0, 531.0], [406.0, 546.0], [383.0, 546.0]], ('No', 0.9950991272926331)], [[[55.0, 571.0], [133.0, 574.0], [133.0, 591.0], [54.0, 588.0]], ('Palindrome', 0.9984792470932007)], [[[311.0, 571.0], [414.0, 574.0], [413.0, 591.0], [311.0, 589.0]], ('not palindrome', 0.9849342107772827)], [[[202.0, 634.0], [247.0, 634.0], [247.0, 653.0], [202.0, 653.0]], ('STOP', 0.9980442523956299)]]\n"
     ]
    }
   ],
   "source": [
    "from paddleocr import PaddleOCR, draw_ocr\n",
    "\n",
    "# Paddleocr supports Chinese, English, French, German, Korean and Japanese\n",
    "# You can set the parameter `lang` as `ch`, `en`, `french`, `german`, `korean`, `japan`\n",
    "# to switch the language model in order\n",
    "ocr = PaddleOCR(use_angle_cls=True, lang='en') # need to run only once to download and load model into memory\n",
    "img_path = 'palin_flow.png'\n",
    "result = ocr.ocr(img_path, cls=True)\n",
    "for line in result:\n",
    "    print(line)\n",
    "\n",
    "# draw result\n",
    "from PIL import Image\n",
    "result = result[0]\n",
    "image = Image.open(img_path).convert('RGB')\n",
    "boxes = [line[0] for line in result]\n",
    "txts = [line[1][0] for line in result]\n",
    "scores = [line[1][1] for line in result]\n",
    "im_show = draw_ocr(image, boxes, txts, scores, font_path='hindi.ttf')\n",
    "im_show = Image.fromarray(im_show)\n",
    "im_show.save('result.jpg')"
   ]
  },
  {
   "cell_type": "code",
   "execution_count": 27,
   "metadata": {},
   "outputs": [
    {
     "name": "stdout",
     "output_type": "stream",
     "text": [
      "[2025/01/22 14:44:48] ppocr DEBUG: Namespace(help='==SUPPRESS==', use_gpu=False, use_xpu=False, use_npu=False, use_mlu=False, ir_optim=True, use_tensorrt=False, min_subgraph_size=15, precision='fp32', gpu_mem=500, gpu_id=0, image_dir=None, page_num=0, det_algorithm='DB', det_model_dir='C:\\\\Users\\\\yugtg/.paddleocr/whl\\\\det\\\\en\\\\en_PP-OCRv3_det_infer', det_limit_side_len=960, det_limit_type='max', det_box_type='quad', det_db_thresh=0.3, det_db_box_thresh=0.6, det_db_unclip_ratio=1.5, max_batch_size=10, use_dilation=False, det_db_score_mode='fast', det_east_score_thresh=0.8, det_east_cover_thresh=0.1, det_east_nms_thresh=0.2, det_sast_score_thresh=0.5, det_sast_nms_thresh=0.2, det_pse_thresh=0, det_pse_box_thresh=0.85, det_pse_min_area=16, det_pse_scale=1, scales=[8, 16, 32], alpha=1.0, beta=1.0, fourier_degree=5, rec_algorithm='SVTR_LCNet', rec_model_dir='C:\\\\Users\\\\yugtg/.paddleocr/whl\\\\rec\\\\en\\\\en_PP-OCRv4_rec_infer', rec_image_inverse=True, rec_image_shape='3, 48, 320', rec_batch_num=6, max_text_length=25, rec_char_dict_path='c:\\\\Users\\\\yugtg\\\\Desktop\\\\cdac surabhi repo\\\\Flowchart_Plagiarism_Detection\\\\.venv\\\\Lib\\\\site-packages\\\\paddleocr\\\\ppocr\\\\utils\\\\en_dict.txt', use_space_char=True, vis_font_path='./doc/fonts/simfang.ttf', drop_score=0.5, e2e_algorithm='PGNet', e2e_model_dir=None, e2e_limit_side_len=768, e2e_limit_type='max', e2e_pgnet_score_thresh=0.5, e2e_char_dict_path='./ppocr/utils/ic15_dict.txt', e2e_pgnet_valid_set='totaltext', e2e_pgnet_mode='fast', use_angle_cls=True, cls_model_dir='C:\\\\Users\\\\yugtg/.paddleocr/whl\\\\cls\\\\ch_ppocr_mobile_v2.0_cls_infer', cls_image_shape='3, 48, 192', label_list=['0', '180'], cls_batch_num=6, cls_thresh=0.9, enable_mkldnn=False, cpu_threads=10, use_pdserving=False, warmup=False, sr_model_dir=None, sr_image_shape='3, 32, 128', sr_batch_num=1, draw_img_save_dir='./inference_results', save_crop_res=False, crop_res_save_dir='./output', use_mp=False, total_process_num=1, process_id=0, benchmark=False, save_log_path='./log_output/', show_log=True, use_onnx=False, return_word_box=False, output='./output', table_max_len=488, table_algorithm='TableAttn', table_model_dir=None, merge_no_span_structure=True, table_char_dict_path=None, formula_algorithm='LaTeXOCR', formula_model_dir=None, formula_char_dict_path=None, formula_batch_num=1, layout_model_dir=None, layout_dict_path=None, layout_score_threshold=0.5, layout_nms_threshold=0.5, kie_algorithm='LayoutXLM', ser_model_dir=None, re_model_dir=None, use_visual_backbone=True, ser_dict_path='../train_data/XFUND/class_list_xfun.txt', ocr_order_method=None, mode='structure', image_orientation=False, layout=True, table=True, formula=False, ocr=True, recovery=False, recovery_to_markdown=False, use_pdf2docx_api=False, invert=False, binarize=False, alphacolor=(255, 255, 255), lang='en', det=True, rec=True, type='ocr', savefile=False, ocr_version='PP-OCRv4', structure_version='PP-StructureV2')\n",
      "[2025/01/22 14:44:51] ppocr DEBUG: dt_boxes num : 17, elapsed : 0.12698769569396973\n",
      "[2025/01/22 14:44:51] ppocr DEBUG: cls num  : 17, elapsed : 0.07881665229797363\n",
      "[2025/01/22 14:44:52] ppocr DEBUG: rec_res num  : 17, elapsed : 1.124143362045288\n",
      "[[[[183.0, 30.0], [230.0, 30.0], [230.0, 46.0], [183.0, 46.0]], ('START', 0.9982209205627441)], [[[171.0, 111.0], [243.0, 111.0], [243.0, 128.0], [171.0, 128.0]], ('Read num', 0.9367326498031616)], [[[166.0, 182.0], [245.0, 179.0], [246.0, 197.0], [166.0, 199.0]], ('reverse=0', 0.9920327067375183)], [[[148.0, 200.0], [263.0, 201.0], [262.0, 216.0], [148.0, 215.0]], ('tempNum=num', 0.9935689568519592)], [[[295.0, 273.0], [319.0, 273.0], [319.0, 290.0], [295.0, 290.0]], ('No', 0.9890297651290894)], [[[176.0, 287.0], [237.0, 287.0], [237.0, 301.0], [176.0, 301.0]], ('num!=0', 0.9645083546638489)], [[[212.0, 347.0], [240.0, 350.0], [238.0, 366.0], [210.0, 363.0]], ('Yes', 0.9970759749412537)], [[[149.0, 382.0], [262.0, 381.0], [263.0, 396.0], [149.0, 397.0]], ('rem=num%10', 0.9931308627128601)], [[[140.0, 400.0], [269.0, 400.0], [269.0, 414.0], [140.0, 414.0]], ('reverse*=10+rem', 0.9886286854743958)], [[[149.0, 417.0], [259.0, 416.0], [259.0, 433.0], [149.0, 434.0]], ('num=num/10', 0.9915350079536438)], [[[255.0, 465.0], [284.0, 468.0], [282.0, 485.0], [253.0, 481.0]], ('Yes', 0.9936376214027405)], [[[334.0, 473.0], [401.0, 473.0], [401.0, 487.0], [334.0, 487.0]], ('reverse=', 0.9940569400787354)], [[[334.0, 491.0], [403.0, 491.0], [403.0, 505.0], [334.0, 505.0]], ('tempNum', 0.9963414072990417)], [[[383.0, 531.0], [406.0, 531.0], [406.0, 546.0], [383.0, 546.0]], ('No', 0.9950991272926331)], [[[55.0, 571.0], [133.0, 574.0], [133.0, 591.0], [54.0, 588.0]], ('Palindrome', 0.9984792470932007)], [[[311.0, 571.0], [414.0, 574.0], [413.0, 591.0], [311.0, 589.0]], ('not palindrome', 0.9849342107772827)], [[[202.0, 634.0], [247.0, 634.0], [247.0, 653.0], [202.0, 653.0]], ('STOP', 0.9980442523956299)]]\n",
      "Boxes: [[[183.0, 30.0], [230.0, 30.0], [230.0, 46.0], [183.0, 46.0]], [[171.0, 111.0], [243.0, 111.0], [243.0, 128.0], [171.0, 128.0]], [[166.0, 182.0], [245.0, 179.0], [246.0, 197.0], [166.0, 199.0]], [[148.0, 200.0], [263.0, 201.0], [262.0, 216.0], [148.0, 215.0]], [[295.0, 273.0], [319.0, 273.0], [319.0, 290.0], [295.0, 290.0]], [[176.0, 287.0], [237.0, 287.0], [237.0, 301.0], [176.0, 301.0]], [[212.0, 347.0], [240.0, 350.0], [238.0, 366.0], [210.0, 363.0]], [[149.0, 382.0], [262.0, 381.0], [263.0, 396.0], [149.0, 397.0]], [[140.0, 400.0], [269.0, 400.0], [269.0, 414.0], [140.0, 414.0]], [[149.0, 417.0], [259.0, 416.0], [259.0, 433.0], [149.0, 434.0]], [[255.0, 465.0], [284.0, 468.0], [282.0, 485.0], [253.0, 481.0]], [[334.0, 473.0], [401.0, 473.0], [401.0, 487.0], [334.0, 487.0]], [[334.0, 491.0], [403.0, 491.0], [403.0, 505.0], [334.0, 505.0]], [[383.0, 531.0], [406.0, 531.0], [406.0, 546.0], [383.0, 546.0]], [[55.0, 571.0], [133.0, 574.0], [133.0, 591.0], [54.0, 588.0]], [[311.0, 571.0], [414.0, 574.0], [413.0, 591.0], [311.0, 589.0]], [[202.0, 634.0], [247.0, 634.0], [247.0, 653.0], [202.0, 653.0]]]\n",
      "Texts: ['START', 'Read num', 'reverse=0', 'tempNum=num', 'No', 'num!=0', 'Yes', 'rem=num%10', 'reverse*=10+rem', 'num=num/10', 'Yes', 'reverse=', 'tempNum', 'No', 'Palindrome', 'not palindrome', 'STOP']\n",
      "Scores: [0.9982209205627441, 0.9367326498031616, 0.9920327067375183, 0.9935689568519592, 0.9890297651290894, 0.9645083546638489, 0.9970759749412537, 0.9931308627128601, 0.9886286854743958, 0.9915350079536438, 0.9936376214027405, 0.9940569400787354, 0.9963414072990417, 0.9950991272926331, 0.9984792470932007, 0.9849342107772827, 0.9980442523956299]\n"
     ]
    }
   ],
   "source": [
    "from paddleocr import PaddleOCR, draw_ocr\n",
    "from PIL import Image\n",
    "\n",
    "# Paddleocr supports Chinese, English, French, German, Korean and Japanese\n",
    "# You can set the parameter `lang` as `ch`, `en`, `french`, `german`, `korean`, `japan`\n",
    "# to switch the language model in order\n",
    "ocr = PaddleOCR(use_angle_cls=True, lang='en') # need to run only once to download and load model into memory\n",
    "img_path = 'palin_flow.png'\n",
    "result = ocr.ocr(img_path, cls=True)\n",
    "for line in result:\n",
    "    print(line)\n",
    "\n",
    "# draw result\n",
    "result = result[0]\n",
    "image = Image.open(img_path).convert('RGB')\n",
    "\n",
    "# Separate lists for boxes, texts, and scores\n",
    "boxes = []\n",
    "texts = []\n",
    "scores = []\n",
    "\n",
    "for line in result:\n",
    "    boxes.append(line[0])\n",
    "    texts.append(line[1][0])\n",
    "    scores.append(line[1][1])\n",
    "\n",
    "# Print each list\n",
    "print(\"Boxes:\", boxes)\n",
    "print(\"Texts:\", texts)\n",
    "print(\"Scores:\", scores)\n",
    "\n",
    "# Draw OCR results on the image\n",
    "im_show = draw_ocr(image, boxes, texts, scores, font_path='hindi.ttf')\n",
    "im_show = Image.fromarray(im_show)\n",
    "im_show.save('result.jpg')"
   ]
  },
  {
   "cell_type": "code",
   "execution_count": 28,
   "metadata": {},
   "outputs": [
    {
     "name": "stdout",
     "output_type": "stream",
     "text": [
      "[2025/01/22 14:45:56] ppocr DEBUG: Namespace(help='==SUPPRESS==', use_gpu=False, use_xpu=False, use_npu=False, use_mlu=False, ir_optim=True, use_tensorrt=False, min_subgraph_size=15, precision='fp32', gpu_mem=500, gpu_id=0, image_dir=None, page_num=0, det_algorithm='DB', det_model_dir='C:\\\\Users\\\\yugtg/.paddleocr/whl\\\\det\\\\en\\\\en_PP-OCRv3_det_infer', det_limit_side_len=960, det_limit_type='max', det_box_type='quad', det_db_thresh=0.3, det_db_box_thresh=0.6, det_db_unclip_ratio=1.5, max_batch_size=10, use_dilation=False, det_db_score_mode='fast', det_east_score_thresh=0.8, det_east_cover_thresh=0.1, det_east_nms_thresh=0.2, det_sast_score_thresh=0.5, det_sast_nms_thresh=0.2, det_pse_thresh=0, det_pse_box_thresh=0.85, det_pse_min_area=16, det_pse_scale=1, scales=[8, 16, 32], alpha=1.0, beta=1.0, fourier_degree=5, rec_algorithm='SVTR_LCNet', rec_model_dir='C:\\\\Users\\\\yugtg/.paddleocr/whl\\\\rec\\\\en\\\\en_PP-OCRv4_rec_infer', rec_image_inverse=True, rec_image_shape='3, 48, 320', rec_batch_num=6, max_text_length=25, rec_char_dict_path='c:\\\\Users\\\\yugtg\\\\Desktop\\\\cdac surabhi repo\\\\Flowchart_Plagiarism_Detection\\\\.venv\\\\Lib\\\\site-packages\\\\paddleocr\\\\ppocr\\\\utils\\\\en_dict.txt', use_space_char=True, vis_font_path='./doc/fonts/simfang.ttf', drop_score=0.5, e2e_algorithm='PGNet', e2e_model_dir=None, e2e_limit_side_len=768, e2e_limit_type='max', e2e_pgnet_score_thresh=0.5, e2e_char_dict_path='./ppocr/utils/ic15_dict.txt', e2e_pgnet_valid_set='totaltext', e2e_pgnet_mode='fast', use_angle_cls=True, cls_model_dir='C:\\\\Users\\\\yugtg/.paddleocr/whl\\\\cls\\\\ch_ppocr_mobile_v2.0_cls_infer', cls_image_shape='3, 48, 192', label_list=['0', '180'], cls_batch_num=6, cls_thresh=0.9, enable_mkldnn=False, cpu_threads=10, use_pdserving=False, warmup=False, sr_model_dir=None, sr_image_shape='3, 32, 128', sr_batch_num=1, draw_img_save_dir='./inference_results', save_crop_res=False, crop_res_save_dir='./output', use_mp=False, total_process_num=1, process_id=0, benchmark=False, save_log_path='./log_output/', show_log=True, use_onnx=False, return_word_box=False, output='./output', table_max_len=488, table_algorithm='TableAttn', table_model_dir=None, merge_no_span_structure=True, table_char_dict_path=None, formula_algorithm='LaTeXOCR', formula_model_dir=None, formula_char_dict_path=None, formula_batch_num=1, layout_model_dir=None, layout_dict_path=None, layout_score_threshold=0.5, layout_nms_threshold=0.5, kie_algorithm='LayoutXLM', ser_model_dir=None, re_model_dir=None, use_visual_backbone=True, ser_dict_path='../train_data/XFUND/class_list_xfun.txt', ocr_order_method=None, mode='structure', image_orientation=False, layout=True, table=True, formula=False, ocr=True, recovery=False, recovery_to_markdown=False, use_pdf2docx_api=False, invert=False, binarize=False, alphacolor=(255, 255, 255), lang='en', det=True, rec=True, type='ocr', savefile=False, ocr_version='PP-OCRv4', structure_version='PP-StructureV2')\n",
      "[2025/01/22 14:45:58] ppocr DEBUG: dt_boxes num : 10, elapsed : 0.16997599601745605\n",
      "[2025/01/22 14:45:58] ppocr DEBUG: cls num  : 10, elapsed : 0.09242415428161621\n",
      "[2025/01/22 14:45:59] ppocr DEBUG: rec_res num  : 10, elapsed : 0.6356351375579834\n",
      "[[[[343.0, 33.0], [621.0, 33.0], [621.0, 64.0], [343.0, 64.0]], ('Simple Flowchart', 0.9770476818084717)], [[[63.0, 55.0], [114.0, 57.0], [113.0, 80.0], [62.0, 77.0]], ('Start', 0.9995299577713013)], [[[618.0, 93.0], [692.0, 90.0], [694.0, 134.0], [619.0, 136.0]], ('QG', 0.9970448613166809)], [[[586.0, 193.0], [627.0, 193.0], [627.0, 216.0], [586.0, 216.0]], ('End', 0.9994561076164246)], [[[32.0, 224.0], [125.0, 224.0], [125.0, 245.0], [32.0, 245.0]], ('Process1', 0.9987485408782959)], [[[310.0, 361.0], [383.0, 361.0], [383.0, 382.0], [310.0, 382.0]], ('Inspect', 0.9969881176948547)], [[[31.0, 381.0], [123.0, 381.0], [123.0, 399.0], [31.0, 399.0]], ('Process2', 0.9979144334793091)], [[[562.0, 373.0], [657.0, 376.0], [656.0, 397.0], [561.0, 394.0]], ('Process3', 0.9963469505310059)], [[[456.0, 389.0], [551.0, 389.0], [551.0, 412.0], [456.0, 412.0]], ('Accepted', 0.9993194341659546)], [[[186.0, 470.0], [273.0, 470.0], [273.0, 493.0], [186.0, 493.0]], ('Rejected', 0.999177873134613)]]\n",
      "Boxes: [[[343.0, 33.0], [621.0, 33.0], [621.0, 64.0], [343.0, 64.0]], [[63.0, 55.0], [114.0, 57.0], [113.0, 80.0], [62.0, 77.0]], [[618.0, 93.0], [692.0, 90.0], [694.0, 134.0], [619.0, 136.0]], [[586.0, 193.0], [627.0, 193.0], [627.0, 216.0], [586.0, 216.0]], [[32.0, 224.0], [125.0, 224.0], [125.0, 245.0], [32.0, 245.0]], [[310.0, 361.0], [383.0, 361.0], [383.0, 382.0], [310.0, 382.0]], [[31.0, 381.0], [123.0, 381.0], [123.0, 399.0], [31.0, 399.0]], [[562.0, 373.0], [657.0, 376.0], [656.0, 397.0], [561.0, 394.0]], [[456.0, 389.0], [551.0, 389.0], [551.0, 412.0], [456.0, 412.0]], [[186.0, 470.0], [273.0, 470.0], [273.0, 493.0], [186.0, 493.0]]]\n",
      "Texts: ['Simple Flowchart', 'Start', 'QG', 'End', 'Process1', 'Inspect', 'Process2', 'Process3', 'Accepted', 'Rejected']\n",
      "Scores: [0.9770476818084717, 0.9995299577713013, 0.9970448613166809, 0.9994561076164246, 0.9987485408782959, 0.9969881176948547, 0.9979144334793091, 0.9963469505310059, 0.9993194341659546, 0.999177873134613]\n"
     ]
    }
   ],
   "source": [
    "from paddleocr import PaddleOCR, draw_ocr\n",
    "from PIL import Image\n",
    "\n",
    "# Paddleocr supports Chinese, English, French, German, Korean and Japanese\n",
    "# You can set the parameter `lang` as `ch`, `en`, `french`, `german`, `korean`, `japan`\n",
    "# to switch the language model in order\n",
    "ocr = PaddleOCR(use_angle_cls=True, lang='en') # need to run only once to download and load model into memory\n",
    "img_path = 's.jpg'\n",
    "result = ocr.ocr(img_path, cls=True)\n",
    "for line in result:\n",
    "    print(line)\n",
    "\n",
    "# draw result\n",
    "result = result[0]\n",
    "image = Image.open(img_path).convert('RGB')\n",
    "\n",
    "# Separate lists for boxes, texts, and scores\n",
    "boxes = []\n",
    "texts = []\n",
    "scores = []\n",
    "\n",
    "for line in result:\n",
    "    boxes.append(line[0])\n",
    "    texts.append(line[1][0])\n",
    "    scores.append(line[1][1])\n",
    "\n",
    "# Print each list\n",
    "print(\"Boxes:\", boxes)\n",
    "print(\"Texts:\", texts)\n",
    "print(\"Scores:\", scores)\n",
    "\n",
    "# Draw OCR results on the image\n",
    "im_show = draw_ocr(image, boxes, texts, scores, font_path='hindi.ttf')\n",
    "im_show = Image.fromarray(im_show)\n",
    "im_show.save('result2.jpg')"
   ]
  },
  {
   "cell_type": "code",
   "execution_count": 24,
   "metadata": {},
   "outputs": [],
   "source": [
    "# img_path = 's.jpg'\n",
    "# result = ocr.ocr(img_path, cls=True)\n",
    "# for idx in range(len(result)):\n",
    "#     res = result[idx]\n",
    "#     for line in res:\n",
    "#         print(line)\n",
    "\n",
    "# # for i in result[0]:\n",
    "# #     print(i)\n",
    "\n",
    "# from PIL import Image\n",
    "# result = result[0]\n",
    "# image = Image.open(img_path).convert('RGB')\n",
    "# image\n",
    "# # print(result)\n",
    "# # for line in result:\n",
    "# #     print(line[0])\n",
    "# # boxes = [line[0] for line in result]\n",
    "# txts = [line[1][0] for line in result]\n",
    "# txts\n",
    "# # scores = [line[1][1] for line in result]\n",
    "# # im_show = draw_ocr(image, boxes, txts, scores, font_path=\"./doc/fonts/simfang.ttf\")\n",
    "# # im_show = Image.fromarray(im_show)\n",
    "# # im_show.save('result.jpg')"
   ]
  },
  {
   "cell_type": "code",
   "execution_count": null,
   "metadata": {},
   "outputs": [],
   "source": []
  },
  {
   "cell_type": "code",
   "execution_count": 14,
   "metadata": {},
   "outputs": [],
   "source": [
    "# from langchain_openai import OpenAI\n",
    "# from langchain_core.prompts import PromptTemplate\n",
    "# # The following is the data containing the text from a flowchart image:\n",
    "# # The data is in the form of a list with the following elements : the 4 coordinates of the bounding box of the text, the text itself, and the confidence score of the text.\n",
    "# # Understand the data with the relation between the bounding box and the text.\n",
    "# # The data is as follows:\n",
    "# template = \"\"\"\n",
    "# The following is the data containing the text from a flowchart image:\n",
    "# Explain the overall semantic meaning of the flowchart preferably in a structured format.\n",
    "# Answer using strictly the information provided in the text below and give the semantic meaning of the flowchart only\n",
    "# {txts}.\n",
    "# \"\"\"\n",
    "\n",
    "# formatted_template = template.format(txts=txts)\n",
    "# prompt = PromptTemplate.from_template(formatted_template)\n"
   ]
  },
  {
   "cell_type": "code",
   "execution_count": 15,
   "metadata": {},
   "outputs": [],
   "source": [
    "# llm = OpenAI(api_key=api_key,temperature=0.3)\n",
    "# llm_chain = prompt|llm\n"
   ]
  },
  {
   "cell_type": "code",
   "execution_count": 16,
   "metadata": {},
   "outputs": [
    {
     "name": "stdout",
     "output_type": "stream",
     "text": [
      "\n",
      "START:\n",
      "- The flowchart begins at the START point.\n",
      "\n",
      "Read num:\n",
      "- The program reads a number from the user and assigns it to the variable 'num'.\n",
      "\n",
      "reverse=0:\n",
      "- The variable 'reverse' is initialized to 0.\n",
      "\n",
      "tempNum=num:\n",
      "- The value of 'num' is stored in the variable 'tempNum'.\n",
      "\n",
      "No:\n",
      "- This is a decision point where the program checks if the number is equal to 0.\n",
      "\n",
      "num!=0:\n",
      "- If the number is not equal to 0, the program proceeds to the next step.\n",
      "\n",
      "Yes:\n",
      "- This is a decision point where the program checks if the number is a palindrome.\n",
      "\n",
      "rem=num%10:\n",
      "- The remainder of the number divided by 10 is stored in the variable 'rem'.\n",
      "\n",
      "reverse*=10+rem:\n",
      "- The variable 'reverse' is multiplied by 10 and added to the value of 'rem'.\n",
      "\n",
      "num=num/10:\n",
      "- The number is divided by 10 and the result is stored in the variable 'num'.\n",
      "\n",
      "Yes:\n",
      "- If the number is a palindrome, the program proceeds to the next step.\n",
      "\n",
      "reverse=:\n",
      "- The value of 'reverse' is assigned to the variable 'tempNum'.\n",
      "\n",
      "No:\n",
      "- If the number is not a palindrome, the program\n"
     ]
    }
   ],
   "source": [
    "# question = {\"input\": \"Summarize the data from the flowchart image\"}\n",
    "# print(llm_chain.invoke(question))\n"
   ]
  },
  {
   "cell_type": "code",
   "execution_count": 17,
   "metadata": {},
   "outputs": [],
   "source": [
    "#Add appropriate image preprocessing steps to improve the OCR results if needed.\n",
    "#Limitations- horizontal text me problem in interpretation\n",
    "#Limitations- text with arrows pe text me problem in interpretation\n",
    "# End me just semantic meaning of flowchart ko match karana hai if similar then plaigiarsim hai"
   ]
  },
  {
   "cell_type": "code",
   "execution_count": null,
   "metadata": {},
   "outputs": [],
   "source": []
  },
  {
   "cell_type": "code",
   "execution_count": null,
   "metadata": {},
   "outputs": [],
   "source": []
  }
 ],
 "metadata": {
  "kernelspec": {
   "display_name": ".venv",
   "language": "python",
   "name": "python3"
  },
  "language_info": {
   "codemirror_mode": {
    "name": "ipython",
    "version": 3
   },
   "file_extension": ".py",
   "mimetype": "text/x-python",
   "name": "python",
   "nbconvert_exporter": "python",
   "pygments_lexer": "ipython3",
   "version": "3.11.3"
  }
 },
 "nbformat": 4,
 "nbformat_minor": 2
}
