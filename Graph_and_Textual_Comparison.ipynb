{
  "nbformat": 4,
  "nbformat_minor": 0,
  "metadata": {
    "colab": {
      "provenance": []
    },
    "kernelspec": {
      "name": "python3",
      "display_name": "Python 3"
    },
    "language_info": {
      "name": "python"
    }
  },
  "cells": [
    {
      "cell_type": "code",
      "source": [
        "import networkx as nx\n",
        "from sklearn.metrics.pairwise import cosine_similarity\n",
        "from sklearn.feature_extraction.text import TfidfVectorizer\n",
        "\n",
        "# Global TF-IDF Vectorizer to avoid redundant instantiation\n",
        "vectorizer = TfidfVectorizer()"
      ],
      "metadata": {
        "id": "8B6sKwQNRK31"
      },
      "execution_count": 42,
      "outputs": []
    },
    {
      "cell_type": "code",
      "source": [
        "# Sample shapes and edges for graph 1\n",
        "shapes1 = [\n",
        "    {'id': 1, 'type': 'terminal', 'center': (0, 0), 'text': 'Hello World'},\n",
        "    {'id': 2, 'type': 'arrow-down', 'center': (1, 1), 'text': 'Graph Comparison'},\n",
        "    {'id': 3, 'type': 'terminal', 'center': (2, 2), 'text': 'Python Code'},\n",
        "]\n",
        "\n",
        "edges1 = [\n",
        "    {'source': 1, 'target': 2},\n",
        "    {'source': 2, 'target': 3},\n",
        "]\n",
        "\n",
        "# Sample shapes and edges for graph 2\n",
        "shapes2 = [\n",
        "    {'id': 1, 'type': 'terminal', 'center': (0, 0), 'text': 'Hello World!'},\n",
        "    {'id': 2, 'type': 'arrow-down', 'center': (1, 1), 'text': 'Graph Similarity'},\n",
        "    {'id': 3, 'type': 'terminal', 'center': (2, 2), 'text': 'Python Scripting'},\n",
        "]\n",
        "\n",
        "edges2 = [\n",
        "    {'source': 1, 'target': 2},\n",
        "    {'source': 2, 'target': 3},\n",
        "    {'source': 3, 'target': 1},  # Extra edge in graph 2\n",
        "]"
      ],
      "metadata": {
        "id": "ksh_qhXXQcDh"
      },
      "execution_count": 43,
      "outputs": []
    },
    {
      "cell_type": "code",
      "source": [
        "# Step 1: Graph Construction\n",
        "def build_graph(shapes, edges):\n",
        "    \"\"\"\n",
        "    Build a directed graph from shapes and edges.\n",
        "\n",
        "    Args:\n",
        "        shapes (list): List of dictionaries containing shape attributes.\n",
        "        edges (list): List of dictionaries containing edge connections.\n",
        "\n",
        "    Returns:\n",
        "        nx.DiGraph: A directed graph representing the flowchart.\n",
        "    \"\"\"\n",
        "    G = nx.DiGraph()\n",
        "    for shape in shapes:\n",
        "        G.add_node(shape['id'], type=shape['type'], center=shape['center'], text=shape['text'])\n",
        "    for edge in edges:  # edges based on arrows\n",
        "        G.add_edge(edge['source'], edge['target'])\n",
        "    return G"
      ],
      "metadata": {
        "id": "HtE-hRCGQf94"
      },
      "execution_count": 44,
      "outputs": []
    },
    {
      "cell_type": "code",
      "source": [
        "# Step 2: Text Similarity\n",
        "def text_similarity(text1, text2):\n",
        "    \"\"\"\n",
        "    Compute cosine similarity between two texts using TF-IDF.\n",
        "\n",
        "    Args:\n",
        "        text1 (str): First text.\n",
        "        text2 (str): Second text.\n",
        "\n",
        "    Returns:\n",
        "        float: Cosine similarity between the two texts.\n",
        "    \"\"\"\n",
        "    tfidf = vectorizer.fit_transform([text1, text2])\n",
        "    return cosine_similarity(tfidf[0:1], tfidf[1:2])[0][0]"
      ],
      "metadata": {
        "id": "HfCC_sTEQm72"
      },
      "execution_count": 45,
      "outputs": []
    },
    {
      "cell_type": "code",
      "source": [
        "# Step 3: Node Similarity\n",
        "def node_similarity(node1, node2):\n",
        "    \"\"\"\n",
        "    Compute similarity between two nodes based on their attributes.\n",
        "\n",
        "    Args:\n",
        "        node1 (dict): Attributes of the first node.\n",
        "        node2 (dict): Attributes of the second node.\n",
        "\n",
        "    Returns:\n",
        "        float: Similarity score between the two nodes.\n",
        "    \"\"\"\n",
        "    # Compare shape type (exact match)\n",
        "    type_sim = 1 if node1['type'] == node2['type'] else 0\n",
        "\n",
        "    # Compare text (cosine similarity using TF-IDF)\n",
        "    text_sim = text_similarity(node1['text'], node2['text'])\n",
        "\n",
        "    # Compare spatial position (Euclidean distance between centers)\n",
        "    center1 = node1['center']\n",
        "    center2 = node2['center']\n",
        "    spatial_dist = ((center1[0] - center2[0]) ** 2 + (center1[1] - center2[1]) ** 2) ** 0.5\n",
        "    spatial_sim = 1 / (1 + spatial_dist)  # Normalize to [0, 1]\n",
        "\n",
        "    # Weighted combination of similarities\n",
        "    return 0.4 * type_sim + 0.4 * text_sim + 0.2 * spatial_sim"
      ],
      "metadata": {
        "id": "7Wq47fTmQqNg"
      },
      "execution_count": 46,
      "outputs": []
    },
    {
      "cell_type": "code",
      "source": [
        "#Step 4: Edge Similarity\n",
        "def edge_similarity(graph1, graph2):\n",
        "    \"\"\"\n",
        "    Compute similarity between edges of two graphs.\n",
        "\n",
        "    Args:\n",
        "        graph1 (nx.DiGraph): First graph.\n",
        "        graph2 (nx.DiGraph): Second graph.\n",
        "\n",
        "    Returns:\n",
        "        float: Edge similarity score.\n",
        "    \"\"\"\n",
        "    common_edges = len(set(graph1.edges) & set(graph2.edges))\n",
        "    total_edges = max(len(graph1.edges), len(graph2.edges))\n",
        "    return common_edges / total_edges if total_edges > 0 else 0"
      ],
      "metadata": {
        "id": "WJobabDdQy7j"
      },
      "execution_count": 47,
      "outputs": []
    },
    {
      "cell_type": "code",
      "source": [
        "#Step 5: Graph Similarity\n",
        "def graph_similarity(graph1, graph2):\n",
        "    \"\"\"\n",
        "    Compute structural similarity between two graphs.\n",
        "\n",
        "    Args:\n",
        "        graph1 (nx.DiGraph): First graph.\n",
        "        graph2 (nx.DiGraph): Second graph.\n",
        "\n",
        "    Returns:\n",
        "        float: Structural similarity score.\n",
        "    \"\"\"\n",
        "    # Node similarity\n",
        "    node_sim = 0\n",
        "    matched_nodes = 0\n",
        "    for node1 in graph1.nodes:\n",
        "        for node2 in graph2.nodes:\n",
        "            sim = node_similarity(graph1.nodes[node1], graph2.nodes[node2])\n",
        "            if sim > 0.7:  # Threshold for matching nodes\n",
        "                node_sim += sim\n",
        "                matched_nodes += 1\n",
        "    node_sim = node_sim / matched_nodes if matched_nodes > 0 else 0\n",
        "\n",
        "    # Edge similarity\n",
        "    edge_sim = edge_similarity(graph1, graph2)\n",
        "\n",
        "    # Weighted combination of node and edge similarity\n",
        "    return 0.6 * node_sim + 0.4 * edge_sim"
      ],
      "metadata": {
        "id": "_bfyblxdQ2p9"
      },
      "execution_count": 48,
      "outputs": []
    },
    {
      "cell_type": "code",
      "source": [
        "#Step 6: Overall similarity\n",
        "def overall_similarity(graph1, graph2):\n",
        "    \"\"\"\n",
        "    Compute overall similarity between two graphs, combining structural and textual similarity.\n",
        "\n",
        "    Args:\n",
        "        graph1 (nx.DiGraph): First graph.\n",
        "        graph2 (nx.DiGraph): Second graph.\n",
        "\n",
        "    Returns:\n",
        "        float: Overall similarity score.\n",
        "    \"\"\"\n",
        "    # Step 1: Structural similarity (already includes textual similarity in node_similarity)\n",
        "    structural_sim = graph_similarity(graph1, graph2)\n",
        "\n",
        "    # Step 2: Combine structural similarity with any additional metrics if needed\n",
        "    # (In this case, no additional textual similarity is required)\n",
        "    return structural_sim"
      ],
      "metadata": {
        "id": "5IHLdN0CRDqT"
      },
      "execution_count": 49,
      "outputs": []
    },
    {
      "cell_type": "code",
      "source": [
        "# Main Workflow\n",
        "graph1 = build_graph(shapes1, edges1)\n",
        "graph2 = build_graph(shapes2, edges2)\n",
        "\n",
        "# Calculate similarity score\n",
        "similarity_score = overall_similarity(graph1, graph2)\n",
        "print(\"Similarity Score:\", similarity_score)"
      ],
      "metadata": {
        "colab": {
          "base_uri": "https://localhost:8080/"
        },
        "id": "l2nzTiG9RIHd",
        "outputId": "29537627-c60a-470e-c74e-a1c1982c166c"
      },
      "execution_count": 50,
      "outputs": [
        {
          "output_type": "stream",
          "name": "stdout",
          "text": [
            "Similarity Score: 0.760442175030868\n"
          ]
        }
      ]
    }
  ]
}